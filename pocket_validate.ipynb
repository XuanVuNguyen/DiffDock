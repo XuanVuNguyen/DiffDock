{
 "cells": [
  {
   "cell_type": "code",
   "execution_count": 4,
   "metadata": {},
   "outputs": [
    {
     "name": "stdout",
     "output_type": "stream",
     "text": [
      "[ 8.03194848  3.05638788 -9.345     ]\n",
      "[ 7.98865148 -1.46808884 -8.93965604]\n"
     ]
    }
   ],
   "source": [
    "from rdkit import Chem\n",
    "import numpy as np\n",
    "\n",
    "import os\n",
    "import glob\n",
    "\n",
    "def get_com_sdf(sdf_file):\n",
    "    coords = []\n",
    "    with Chem.SDMolSupplier(sdf_file) as supp:\n",
    "        for mol in supp:\n",
    "            for i, atom in enumerate(mol.GetAtoms()):\n",
    "                positions = mol.GetConformer().GetAtomPosition(i)\n",
    "                # print(atom.GetSymbol(), positions.x, positions.y, positions.z)\n",
    "                coords.append([positions.x, positions.y, positions.z])\n",
    "        \n",
    "            break\n",
    "    coords = np.array(coords)\n",
    "    return np.mean(coords, axis=0)\n",
    "\n",
    "def get_com_mol2(mol2_file):\n",
    "    with open(mol2_file) as f:\n",
    "        lines = f.readlines()\n",
    "        record = False\n",
    "        coords = []\n",
    "        for line in lines:\n",
    "            if line.startswith(\"@<TRIPOS>ATOM\"):\n",
    "                record = True\n",
    "                continue\n",
    "            if line.startswith(\"@<TRIPOS>BOND\"):\n",
    "                record = False\n",
    "                break\n",
    "            if record:\n",
    "                info = line.strip().split()\n",
    "                x, y, z = info[2:5]\n",
    "                coords.append([float(x), float(y), float(z)])\n",
    "    coords = np.array(coords)\n",
    "    return np.mean(coords, axis=0)\n",
    "\n",
    "print(get_com_sdf(\"results/alphaflow_0/ligand_71/rank2_confidence-2.37.sdf\"))\n",
    "print(get_com_mol2(\"kalasanty_results/af2_active/pocket1.mol2\"))"
   ]
  },
  {
   "cell_type": "code",
   "execution_count": null,
   "metadata": {},
   "outputs": [],
   "source": [
    "def pose_validate(pose_file:str, pocket_reference: str, distance_threshold: float=15):\n",
    "    if pocket_reference.endswith(\".mol2\"):\n",
    "        ref_coord = get_com_mol2(pocket_reference)\n",
    "    elif pocket_reference.endswith(\".sdf\"):\n",
    "        ref_coord = get_com_sdf(pocket_reference)\n",
    "    lig_coord = get_com_sdf(pose_file)\n",
    "    dist = np.linalg.norm(ref_coord - lig_coord)\n",
    "    \n",
    "    return dist < distance_threshold\n",
    "    "
   ]
  },
  {
   "cell_type": "code",
   "execution_count": 14,
   "metadata": {},
   "outputs": [
    {
     "name": "stderr",
     "output_type": "stream",
     "text": [
      "[15:32:25] Warning: molecule is tagged as 2D, but at least one Z coordinate is not zero. Marking the mol as 3D.\n"
     ]
    },
    {
     "name": "stdout",
     "output_type": "stream",
     "text": [
      "Large rmsd in results/alphaflow_1/ligand_1/rank1.sdf: 31.686987924064063\n",
      "Large rmsd in results/alphaflow_1/ligand_16/rank1.sdf: 31.95405612803261\n",
      "Large rmsd in results/alphaflow_1/ligand_38/rank1.sdf: 29.552576246609274\n",
      "Large rmsd in results/alphaflow_1/ligand_55/rank1.sdf: 34.14875894530759\n",
      "Large rmsd in results/alphaflow_1/ligand_78/rank1.sdf: 33.61877020602758\n",
      "Large rmsd in results/alphaflow_1/ligand_90/rank1.sdf: 33.35915110595483\n",
      "Large rmsd in results/alphaflow_1/ligand_91/rank1.sdf: 25.027002891307678\n",
      "Large rmsd in results/alphaflow_1/ligand_92/rank1.sdf: 33.74082562116517\n",
      "Large rmsd in results/alphaflow_1/ligand_96/rank1.sdf: 34.39559683527744\n",
      "Large rmsd in results/alphaflow_1/ligand_98/rank1.sdf: 34.802138633621404\n",
      "Large rmsd in results/alphaflow_2/ligand_59/rank1.sdf: 39.67344544121607\n",
      "Large rmsd in results/alphafold_gpcr/ligand_4/rank1.sdf: 30.530268583709642\n",
      "Large rmsd in results/alphafold_gpcr/ligand_12/rank1.sdf: 28.85027119247533\n",
      "Large rmsd in results/alphafold_gpcr/ligand_13/rank1.sdf: 29.214005039247663\n",
      "Large rmsd in results/alphafold_gpcr/ligand_21/rank1.sdf: 29.572307014691948\n",
      "Large rmsd in results/alphafold_gpcr/ligand_28/rank1.sdf: 28.28788382856298\n",
      "Large rmsd in results/alphafold_gpcr/ligand_55/rank1.sdf: 34.05456656006752\n",
      "Large rmsd in results/alphafold_gpcr/ligand_58/rank1.sdf: 31.071720378720624\n",
      "Large rmsd in results/alphafold_gpcr/ligand_59/rank1.sdf: 35.33828400170211\n",
      "Large rmsd in results/alphafold_gpcr/ligand_79/rank1.sdf: 29.242387399667454\n",
      "Large rmsd in results/alphafold_gpcr/ligand_80/rank1.sdf: 30.923309605399975\n",
      "Large rmsd in results/alphafold_gpcr/ligand_83/rank1.sdf: 32.93741630508167\n",
      "Large rmsd in results/alphafold_gpcr/ligand_86/rank1.sdf: 32.41393968195659\n",
      "Large rmsd in results/alphafold_gpcr/ligand_93/rank1.sdf: 30.290142929378717\n",
      "Large rmsd in results/alphafold_gpcr/ligand_98/rank1.sdf: 29.643609599756676\n"
     ]
    },
    {
     "name": "stderr",
     "output_type": "stream",
     "text": [
      "[15:32:26] Warning: molecule is tagged as 2D, but at least one Z coordinate is not zero. Marking the mol as 3D.\n"
     ]
    }
   ],
   "source": [
    "pocket_data = [\n",
    "    (\"results/alphaflow_0\", \"kalasanty_results/alphaflow0/pocket1.mol2\"),\n",
    "    (\"results/alphaflow_1\", \"results/alphaflow_1/ligand_47/minimized.sdf\"),\n",
    "    (\"results/alphaflow_2\", \"kalasanty_results/alphaflow2/pocket1.mol2\"),\n",
    "    (\"results/alphafold_gpcr\", \"kalasanty_results/af2_inactive/pocket1.mol2\"),\n",
    "    (\"results/alphafold_gpcr_active_2\", \"kalasanty_results/af2_active/pocket1.mol2\"),\n",
    "    (\"results/esmflow_0\", \"kalasanty_results/esmflow0/pocket1.mol2\"),\n",
    "    (\"results/esmflow_1\", \"kalasanty_results/esmflow1/pocket0.mol2\"),\n",
    "    (\"results/esmflow_2\", \"results/esmflow_2/ligand_80/minimized.sdf\"),\n",
    "    (\"results/Q99705_model.active.crderr.pdb\", \"kalasanty_results/rosettafold_active/pocket0.mol2\"),\n",
    "    (\"results/Q99705_model.inactive.crderr.pdb\", \"kalasanty_results/rosettafold_inactive/pocket0.mol2\"),\n",
    "]\n",
    "\n",
    "rmsds = []\n",
    "for res_dir, pocket_file in pocket_data:\n",
    "    if pocket_file.endswith(\".mol2\"):\n",
    "        ref_coord = get_com_mol2(pocket_file)\n",
    "    elif pocket_file.endswith(\".sdf\"):\n",
    "        ref_coord = get_com_sdf(pocket_file)\n",
    "    \n",
    "    pose_dirs = [d for d in os.listdir(res_dir) if os.path.isdir(os.path.join(res_dir, d))] \n",
    "    pose_dirs = sorted(pose_dirs, key=lambda x: int(x.split(\"_\")[-1]))\n",
    "    for pose_dir in pose_dirs:\n",
    "        pose_dir = os.path.join(res_dir, pose_dir)\n",
    "        if not os.path.isdir(pose_dir):\n",
    "            continue\n",
    "        pose_files = glob.glob(os.path.join(pose_dir, \"rank1.sdf\"))\n",
    "        pose_files = sorted(pose_files)\n",
    "        \n",
    "        for pose_f in pose_files:\n",
    "            try:\n",
    "                lig_coord = get_com_sdf(pose_f)\n",
    "                rmsd = np.linalg.norm(ref_coord - lig_coord)\n",
    "                rmsds.append(rmsd)\n",
    "                if rmsd > 15:\n",
    "                    print(f\"Large rmsd in {pose_f}: {rmsd}\")\n",
    "                \n",
    "            except Exception as e:\n",
    "                print(f\"Error in {pose_f}\")\n",
    "                continue\n",
    "rmsds = np.array(rmsds)\n",
    "    "
   ]
  },
  {
   "cell_type": "code",
   "execution_count": 6,
   "metadata": {},
   "outputs": [
    {
     "name": "stdout",
     "output_type": "stream",
     "text": [
      "0.20282235536845009\n",
      "39.67344544121607\n"
     ]
    },
    {
     "data": {
      "image/png": "[encoded data removed]",
      "text/plain": [
       "<Figure size 640x480 with 1 Axes>"
      ]
     },
     "metadata": {},
     "output_type": "display_data"
    }
   ],
   "source": [
    "from matplotlib import pyplot as plt\n",
    "\n",
    "rmsds1 = [rmsd for rmsd in rmsds]    \n",
    "plt.hist(rmsds1)\n",
    "print(min(rmsds1))\n",
    "print(max(rmsds1))\n",
    "plt.show()"
   ]
  },
  {
   "cell_type": "code",
   "execution_count": 11,
   "metadata": {},
   "outputs": [
    {
     "data": {
      "text/plain": [
       "array([False, False, False, False, False, False, False, False, False,\n",
       "       False, False, False, False,  True, False, False,  True, False,\n",
       "       False,  True, False, False, False, False, False, False, False,\n",
       "       False, False, False, False, False, False, False, False,  True,\n",
       "       False, False, False, False, False, False, False, False, False,\n",
       "       False, False, False, False, False, False, False, False, False,\n",
       "       False, False,  True,  True,  True, False, False,  True, False,\n",
       "       False, False, False, False, False, False, False, False, False,\n",
       "        True, False, False, False, False, False, False, False, False,\n",
       "        True, False, False, False, False, False, False, False, False,\n",
       "       False, False, False, False, False,  True, False, False, False,\n",
       "       False,  True, False, False, False,  True,  True,  True, False,\n",
       "        True, False, False, False,  True, False,  True,  True,  True,\n",
       "       False, False, False, False,  True,  True, False, False, False,\n",
       "        True,  True,  True, False,  True, False, False, False, False,\n",
       "        True, False,  True,  True, False, False, False, False,  True,\n",
       "       False, False, False, False, False, False,  True, False,  True,\n",
       "        True,  True,  True, False,  True, False,  True,  True, False,\n",
       "        True, False,  True, False,  True,  True,  True, False,  True,\n",
       "       False,  True, False,  True,  True,  True,  True,  True,  True,\n",
       "       False,  True, False, False, False,  True, False,  True,  True,\n",
       "        True,  True,  True,  True, False,  True, False,  True, False,\n",
       "        True, False,  True,  True,  True, False,  True,  True,  True,\n",
       "       False,  True,  True, False,  True,  True, False, False, False,\n",
       "        True,  True,  True,  True, False,  True,  True, False,  True,\n",
       "        True,  True,  True,  True, False,  True,  True,  True,  True,\n",
       "        True,  True, False,  True,  True,  True,  True,  True,  True,\n",
       "        True,  True,  True, False,  True, False,  True,  True,  True,\n",
       "        True,  True,  True,  True,  True,  True,  True,  True,  True,\n",
       "       False,  True,  True,  True,  True,  True,  True,  True,  True,\n",
       "        True,  True,  True, False,  True,  True,  True,  True,  True,\n",
       "        True,  True,  True,  True,  True,  True,  True,  True,  True,\n",
       "        True, False,  True,  True,  True,  True,  True,  True,  True,\n",
       "       False, False, False, False,  True, False, False, False, False,\n",
       "       False, False, False,  True,  True, False, False, False, False,\n",
       "       False, False, False,  True, False, False, False, False, False,\n",
       "       False,  True, False, False, False, False, False, False, False,\n",
       "       False,  True, False, False, False, False, False, False, False,\n",
       "       False, False, False, False, False, False, False, False, False,\n",
       "       False,  True, False, False,  True,  True, False, False, False,\n",
       "       False, False, False, False, False, False, False, False, False,\n",
       "       False, False, False, False, False, False,  True,  True, False,\n",
       "       False,  True, False, False,  True, False, False, False,  True,\n",
       "       False, False,  True, False, False, False, False,  True, False,\n",
       "       False,  True, False, False, False, False, False, False, False,\n",
       "       False, False, False, False, False, False, False, False, False,\n",
       "       False, False, False, False, False, False, False, False, False,\n",
       "       False, False, False, False, False, False, False,  True, False,\n",
       "       False, False, False, False, False, False, False, False, False,\n",
       "       False, False, False, False, False, False, False, False, False,\n",
       "       False, False, False, False, False, False, False, False, False,\n",
       "       False, False, False, False, False, False, False, False, False,\n",
       "       False, False, False, False, False, False, False, False, False,\n",
       "       False, False, False, False, False, False, False, False, False,\n",
       "       False, False, False, False, False, False, False, False, False,\n",
       "       False, False, False, False, False, False, False, False, False,\n",
       "       False, False, False, False, False, False, False, False, False,\n",
       "       False, False, False, False, False, False, False, False, False,\n",
       "       False,  True, False, False, False, False, False, False, False,\n",
       "       False, False, False, False, False, False, False, False, False,\n",
       "       False, False, False, False, False, False, False, False, False,\n",
       "       False, False, False, False, False, False, False, False, False,\n",
       "       False, False, False, False, False, False, False, False, False,\n",
       "       False, False, False, False, False, False, False, False, False,\n",
       "       False, False, False, False, False, False, False, False, False,\n",
       "       False, False,  True, False, False, False, False, False, False,\n",
       "       False, False, False, False, False, False, False, False, False,\n",
       "       False, False, False, False, False, False, False, False, False,\n",
       "       False, False, False, False, False, False, False, False, False,\n",
       "       False, False, False, False, False, False, False, False, False,\n",
       "       False, False, False, False, False, False, False, False, False,\n",
       "       False, False, False, False, False, False, False, False, False,\n",
       "       False,  True, False, False, False, False, False, False, False,\n",
       "       False, False, False, False, False, False, False, False, False,\n",
       "       False, False, False, False, False, False, False, False, False,\n",
       "       False, False, False, False, False, False, False, False, False,\n",
       "       False, False, False, False, False, False, False, False, False,\n",
       "       False, False, False, False, False, False, False, False, False,\n",
       "       False, False, False, False, False, False, False, False, False,\n",
       "       False, False, False, False, False, False, False, False, False,\n",
       "       False, False, False, False, False, False, False, False, False,\n",
       "       False, False, False, False, False, False, False, False, False,\n",
       "       False, False, False, False, False, False, False, False, False,\n",
       "       False, False, False, False, False, False, False, False, False,\n",
       "       False, False, False, False, False, False, False, False, False,\n",
       "       False, False, False, False, False, False, False, False, False,\n",
       "       False, False, False, False, False, False, False, False, False,\n",
       "       False, False, False, False, False, False, False, False, False,\n",
       "       False, False, False, False,  True,  True, False, False, False,\n",
       "       False,  True,  True, False,  True,  True, False,  True, False,\n",
       "        True, False, False, False, False,  True, False,  True, False,\n",
       "       False, False, False, False, False, False, False, False, False,\n",
       "       False, False, False, False,  True,  True,  True, False,  True,\n",
       "        True,  True,  True,  True, False,  True,  True,  True,  True,\n",
       "        True, False,  True,  True,  True,  True,  True,  True, False,\n",
       "        True,  True,  True,  True,  True,  True,  True,  True,  True,\n",
       "       False,  True, False,  True, False,  True,  True,  True, False,\n",
       "        True,  True,  True, False,  True,  True,  True,  True,  True,\n",
       "        True,  True,  True,  True,  True,  True,  True,  True,  True,\n",
       "        True,  True,  True, False,  True, False,  True,  True,  True,\n",
       "       False,  True,  True,  True,  True, False, False,  True,  True,\n",
       "        True,  True,  True, False, False,  True,  True, False, False,\n",
       "        True, False,  True,  True,  True, False,  True,  True,  True,\n",
       "        True,  True,  True,  True,  True,  True,  True,  True, False,\n",
       "        True,  True, False,  True, False,  True, False,  True,  True,\n",
       "        True,  True,  True,  True,  True,  True,  True,  True, False,\n",
       "        True,  True,  True,  True,  True, False,  True,  True,  True,\n",
       "        True,  True,  True,  True, False,  True,  True,  True, False,\n",
       "        True,  True,  True,  True,  True,  True,  True,  True,  True,\n",
       "        True,  True,  True,  True,  True,  True, False,  True,  True])"
      ]
     },
     "execution_count": 11,
     "metadata": {},
     "output_type": "execute_result"
    }
   ],
   "source": [
    "rmsds > 5"
   ]
  }
 ],
 "metadata": {
  "kernelspec": {
   "display_name": "Python 3",
   "language": "python",
   "name": "python3"
  },
  "language_info": {
   "codemirror_mode": {
    "name": "ipython",
    "version": 3
   },
   "file_extension": ".py",
   "mimetype": "text/x-python",
   "name": "python",
   "nbconvert_exporter": "python",
   "pygments_lexer": "ipython3",
   "version": "3.9.18"
  }
 },
 "nbformat": 4,
 "nbformat_minor": 2
}
