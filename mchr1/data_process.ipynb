{
 "cells": [
  {
   "cell_type": "markdown",
   "metadata": {},
   "source": [
    "## Sampling positive smiles"
   ]
  },
  {
   "cell_type": "code",
   "execution_count": 8,
   "metadata": {},
   "outputs": [],
   "source": [
    "import pandas as pd\n",
    "import numpy as np"
   ]
  },
  {
   "cell_type": "code",
   "execution_count": 3,
   "metadata": {},
   "outputs": [],
   "source": [
    "pos_csv = pd.read_csv('MCHR1_patent_clean.tsv', sep='\\t')"
   ]
  },
  {
   "cell_type": "code",
   "execution_count": 5,
   "metadata": {},
   "outputs": [
    {
     "name": "stdout",
     "output_type": "stream",
     "text": [
      "753\n"
     ]
    },
    {
     "data": {
      "text/html": [
       "<div>\n",
       "<style scoped>\n",
       "    .dataframe tbody tr th:only-of-type {\n",
       "        vertical-align: middle;\n",
       "    }\n",
       "\n",
       "    .dataframe tbody tr th {\n",
       "        vertical-align: top;\n",
       "    }\n",
       "\n",
       "    .dataframe thead th {\n",
       "        text-align: right;\n",
       "    }\n",
       "</style>\n",
       "<table border=\"1\" class=\"dataframe\">\n",
       "  <thead>\n",
       "    <tr style=\"text-align: right;\">\n",
       "      <th></th>\n",
       "      <th>Structure</th>\n",
       "      <th>acname</th>\n",
       "      <th>activity</th>\n",
       "    </tr>\n",
       "  </thead>\n",
       "  <tbody>\n",
       "    <tr>\n",
       "      <th>0</th>\n",
       "      <td>O=C(O)c1ccc(NCc2cccc(Br)c2)cc1</td>\n",
       "      <td>IC50</td>\n",
       "      <td>3.127962</td>\n",
       "    </tr>\n",
       "    <tr>\n",
       "      <th>1</th>\n",
       "      <td>Clc1ccc(CN(Cc2ccc(Cl)cc2)c2nn[nH]n2)cc1</td>\n",
       "      <td>IC50</td>\n",
       "      <td>4.226597</td>\n",
       "    </tr>\n",
       "    <tr>\n",
       "      <th>2</th>\n",
       "      <td>Clc1ccc(-n2c(SC/C=C/c3ccccc3)nnc2-c2cccnc2)cc1</td>\n",
       "      <td>IC50</td>\n",
       "      <td>4.775484</td>\n",
       "    </tr>\n",
       "    <tr>\n",
       "      <th>3</th>\n",
       "      <td>O=C1N/C(=C\\c2ccc(CNCc3ccccc3)cc2)C(=O)N1c1ccc(...</td>\n",
       "      <td>Ki</td>\n",
       "      <td>5.298317</td>\n",
       "    </tr>\n",
       "    <tr>\n",
       "      <th>4</th>\n",
       "      <td>O=C(c1nnc(-c2ccccc2)o1)N1CC(Oc2ccc(CN3CC4(COC4...</td>\n",
       "      <td>IC50</td>\n",
       "      <td>11.417615</td>\n",
       "    </tr>\n",
       "  </tbody>\n",
       "</table>\n",
       "</div>"
      ],
      "text/plain": [
       "                                           Structure acname   activity\n",
       "0                     O=C(O)c1ccc(NCc2cccc(Br)c2)cc1   IC50   3.127962\n",
       "1            Clc1ccc(CN(Cc2ccc(Cl)cc2)c2nn[nH]n2)cc1   IC50   4.226597\n",
       "2     Clc1ccc(-n2c(SC/C=C/c3ccccc3)nnc2-c2cccnc2)cc1   IC50   4.775484\n",
       "3  O=C1N/C(=C\\c2ccc(CNCc3ccccc3)cc2)C(=O)N1c1ccc(...     Ki   5.298317\n",
       "4  O=C(c1nnc(-c2ccccc2)o1)N1CC(Oc2ccc(CN3CC4(COC4...   IC50  11.417615"
      ]
     },
     "execution_count": 5,
     "metadata": {},
     "output_type": "execute_result"
    }
   ],
   "source": [
    "print(len(pos_csv))\n",
    "pos_csv.head()"
   ]
  },
  {
   "cell_type": "code",
   "execution_count": 12,
   "metadata": {},
   "outputs": [],
   "source": [
    "np.random.seed(0)\n",
    "pos_smiles = pos_csv.sample(n=50).Structure.tolist()"
   ]
  },
  {
   "cell_type": "code",
   "execution_count": 13,
   "metadata": {},
   "outputs": [
    {
     "data": {
      "text/plain": [
       "['CN[C@H]1CCN(c2ccc(N3Cc4cn(-c5ccc(Cl)cc5)nc4C3=O)cn2)C1',\n",
       " 'COc1cc(NC(=O)c2ccc(-c3ccccc3)cc2)ccc1OCCN1CCCC1',\n",
       " 'Cc1c(C2CC2)nc2ccc(-n3ccc(OCc4ccc(Cl)cn4)cc3=O)cn12',\n",
       " 'O=C1N/C(=C\\\\c2ccc(CNC3CCCC3)cc2)C(=O)N1c1ccc(Oc2ccccc2)cc1',\n",
       " 'Cc1c2cc(-n3ccc(OCc4nc(C(F)(F)F)cs4)cc3=O)ccc2nn1C',\n",
       " 'N#Cc1ccc(-c2ccc(C3(NCC(=O)Nc4ccc(F)c(Cl)c4)CCN(C4CCCC4)CC3)cc2)cc1',\n",
       " 'Cc1ccc2c(c1)nc(C)n2C1CCC(NC2Cc3ccc(Cl)cc3C2)CC1',\n",
       " 'N#Cc1cccc(-c2ccc3c(c2)CCN(CC(=O)Nc2ccc(Cl)cc2)C32CCN(CC3CC3)CC2)c1',\n",
       " 'COc1cc(N2Cc3ccc(-c4ccc(Cl)cc4)nc3C2=O)ccc1OCCN1CCCC1',\n",
       " 'O=C(NCCc1ccccn1)C1CCN(Cc2ccn(-c3ccc(C(F)(F)F)cc3)c2)CC1',\n",
       " 'Cc1ccc(NC(=O)C(C)C)cc1C1CCN(CCCNC(=O)C(c2ccc(F)cc2)c2ccc(F)cc2)CC1',\n",
       " 'O=C(COc1cccc(Cl)c1)NC1CCN(Cc2ccn(-c3ccc(C(F)(F)F)cn3)c2)CC1',\n",
       " 'COc1cc(-n2cnc3cc(-c4ccc(Cl)cc4)sc3c2=O)ccc1OCC1(O)CC(F)(F)C1',\n",
       " 'N#Cc1cccc(-c2ccc(C(=C3CCN(CC4CC4)CC3)c3nc4cc(Cl)c(Cl)cc4[nH]3)cc2)c1',\n",
       " 'N#Cc1cccc(-c2ccc3c(c2)CCN(CC(=O)Nc2cc(Cl)cc(Cl)c2)C32CCNCC2)c1',\n",
       " 'O=C1N/C(=C\\\\c2ccc(CN3CCN(c4ccccc4)CC3)cc2)C(=O)N1c1ccc(Oc2ccccc2)cc1',\n",
       " 'O=C(CNC1(c2ccc(-c3cc(Cl)ccc3Cl)cc2)CCN(C2CCCC2)CC1)Nc1ccc(F)c(Cl)c1',\n",
       " 'CS(=O)(=O)N1CCC2(CC1)c1ccc(-c3cccc(C#N)c3)cc1CCN2CC(=O)Nc1cc(Cl)cc(Cl)c1',\n",
       " 'CCc1ccc(-c2ccc(C(=O)Nc3ccc4c(c3)CCC(CN(C)C)C4)cc2)cc1',\n",
       " 'CCc1c(NC(=O)c2ccc(-c3ccc(F)cc3)cc2)ccc2cc(CN3CCCC3)cnc12',\n",
       " 'Cc1ccc(Oc2ccc(C(=O)NCCN3CCCC3)cc2NC(=O)Nc2ccccn2)cc1C',\n",
       " 'Cc1c(C2CC2)nc2ncc(-n3ccc(OCc4ccc(Cl)cc4)cc3=O)cn12',\n",
       " 'CCCCC(=O)Nc1ccc(C(=O)Nc2ccc3cc(CN4CCCC4)cnc3c2C)cc1',\n",
       " 'N#Cc1cccc([C@]23CC[C@@H](N(CCN4CC[C@@H](O)C4)C(=O)Nc4cccc(Cl)c4)CC2C3)c1',\n",
       " 'Cc1c(NC(=O)c2ccc(-c3ccc(Cl)cc3)cc2)ccc2cc(CN3CCCC3)cnc12',\n",
       " 'CN(C)CCNCc1ccc(/C=C2\\\\NC(=O)N(c3ccc(Oc4ccccc4)cc3)C2=O)cc1',\n",
       " 'Cc1ccc(Oc2ccc(C(=O)NCCN3CCCC3)cc2NC(=O)Nc2ccc(-c3ccccc3)cc2)cc1C',\n",
       " 'CC(=O)Nc1cccc(C2CCN(CCCNc3nc4ccccc4n3-c3ccc(C)cc3)CC2)c1',\n",
       " 'O=c1c2sc(-c3ccc(Cl)cc3)cc2ncn1-c1ccc2nc(CN3CCC(c4ccc(F)cc4)CC3)ccc2c1',\n",
       " 'N#Cc1cccc([C@]23CC[C@@H](N(CCN4CCCCC4)C(=O)Nc4ccc(F)c(Cl)c4)[C@H]2C3)c1',\n",
       " 'CO[C@@H]1CN(CC2Cc3ccccc3C2)CC[C@H]1n1c(C)nc2cc(C)ccc21',\n",
       " 'CC(=O)N1CCc2ccc(C(=O)CCCN3CCN(Cc4ccccc4)CC3)cc2CC1',\n",
       " 'COc1ccc2c(C)cc(N[C@H]3CC[C@H](NCc4cn(C)c5ccc(C#N)cc45)C3)nc2c1',\n",
       " 'Cc1ccc(C2CCN(C(=O)Nc3ccc4cc(CN5CCCC5)cnc4c3)CC2)cc1',\n",
       " 'O=C(Nc1ccc2cc(CN3CCCC3)cnc2c1)c1ccc(-c2ccc(Cl)cc2)cc1',\n",
       " 'Cc1ccc(Oc2ccc(C(=O)NCCN3CCCC3)cc2NC(=O)Nc2ccccc2)cc1C',\n",
       " 'N#Cc1cccc(-c2ccc3c(c2)CCN(CC(=O)Nc2cc(Cl)cc(Cl)c2)C3C2CCN(C3CCC3)CC2)c1',\n",
       " 'CC(C)N(CCN(C(=O)Nc1cccc([N+](=O)[O-])c1)[C@@H]1CC[C@]2(c3cccc(C#N)c3)CC2C1)C(C)C',\n",
       " 'Cc1c(NC(=O)CCCCc2ccc(F)cc2)ccc2cc(CN3CCCC3)cnc12',\n",
       " 'N#Cc1cccc([C@]23CC[C@@H](N(CCN4CCCC4)C(=O)Nc4ccc(F)c(Cl)c4)[C@H]2C3)c1',\n",
       " 'Cc1c(C2CC2)nc2ccc(-n3ccc4oc(-c5ccc(Cl)cc5)cc4c3=O)cn12',\n",
       " 'O=C(NC1CCN(Cc2ccc3c(c2)OCO3)CC1)c1cc(=O)c2ccc(F)cc2o1',\n",
       " 'CON(C)CC1=Cc2ccc(NC(=O)c3ccc(-c4ccc(Cl)cc4)cc3)cc2CC1',\n",
       " 'O=C(CN1CCc2cc(-c3ccsc3)ccc2C1C1CCN(C2CCCC2)CC1)Nc1cc(Cl)cc(Cl)c1',\n",
       " 'CN(C(=O)c1ccc(OCC2CC2)cc1)[C@@H]1Cc2ccc(CN3CCC(C(C)(C)O)CC3)cc2C1',\n",
       " 'COc1ccc2c(c1)c(NC1CCN(Cc3ccc4c(c3)OCO4)CC1)cc(=O)n2C',\n",
       " 'Cc1c2cc(-n3ccc(OCc4ccc(Cl)cc4)cc3=O)ccc2nn1C',\n",
       " 'COc1ccc(-c2nnc(C(=O)N3CC(Oc4ccc(CN(C)C)c(F)c4)C3)o2)cc1',\n",
       " 'Clc1ccc(CN(Cc2ccc(Cl)cc2)c2nn[nH]n2)cc1',\n",
       " 'CC(C)N1CCC(C2c3ccc(-c4cccc(C#N)c4)cc3CCN2CC(=O)Nc2cc(Cl)cc(Cl)c2)CC1']"
      ]
     },
     "execution_count": 13,
     "metadata": {},
     "output_type": "execute_result"
    }
   ],
   "source": [
    "pos_smiles"
   ]
  },
  {
   "cell_type": "code",
   "execution_count": 14,
   "metadata": {},
   "outputs": [],
   "source": [
    "with open('positives.smi', 'w') as f:\n",
    "    for s in pos_smiles:\n",
    "        f.write(s + '\\n')"
   ]
  },
  {
   "cell_type": "markdown",
   "metadata": {},
   "source": [
    "## Combine receptor and ligands to make input file"
   ]
  },
  {
   "cell_type": "code",
   "execution_count": 2,
   "metadata": {},
   "outputs": [],
   "source": [
    "import pandas as pd\n",
    "\n",
    "receptor_file = \"mchr1/mchr1_data/mchr1_active/mchr1_active_2_0.79.pdb\"\n",
    "pos_ligands_file = \"positives.smi\"\n",
    "neg_ligands_file = \"negatives.smi\"\n",
    "\n",
    "with open(pos_ligands_file) as f:\n",
    "    ligands = f.read().splitlines()\n",
    "\n",
    "with open(neg_ligands_file) as f:\n",
    "    ligands += f.read().splitlines()\n",
    "\n",
    "data = []\n",
    "for lig_id, ligand in enumerate(ligands):\n",
    "    data.append((f\"ligand_{lig_id}\", receptor_file, ligand, None))\n",
    "\n",
    "data = pd.DataFrame(data, columns=[\"complex_name\", \"protein_path\", \"ligand_description\", \"protein_sequence\"])\n",
    "data.to_csv(\"diffdock_input.csv\", index=False)    "
   ]
  },
  {
   "cell_type": "code",
   "execution_count": null,
   "metadata": {},
   "outputs": [],
   "source": []
  }
 ],
 "metadata": {
  "kernelspec": {
   "display_name": "diffdock",
   "language": "python",
   "name": "python3"
  },
  "language_info": {
   "codemirror_mode": {
    "name": "ipython",
    "version": 3
   },
   "file_extension": ".py",
   "mimetype": "text/x-python",
   "name": "python",
   "nbconvert_exporter": "python",
   "pygments_lexer": "ipython3",
   "version": "3.9.18"
  }
 },
 "nbformat": 4,
 "nbformat_minor": 2
}
