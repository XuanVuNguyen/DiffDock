{
 "cells": [
  {
   "cell_type": "code",
   "execution_count": 2,
   "metadata": {},
   "outputs": [
    {
     "name": "stderr",
     "output_type": "stream",
     "text": [
      "  0%|          | 0/10 [00:00<?, ?it/s]"
     ]
    }
   ],
   "source": [
    "import os\n",
    "import glob as glob\n",
    "\n",
    "from tqdm import tqdm\n",
    "import pandas as pd\n",
    "\n",
    "def pose_buster(pose_path, protein_path, out_file):\n",
    "    os.system(f\"bust {pose_path} -p {protein_path} >> {out_file}\")\n",
    "    \n",
    "def _get_rank(ligand_path):\n",
    "    basename = os.path.basename(ligand_path)\n",
    "    rank = basename.lsplit(\"_\", 1)[0]\n",
    "    rank = rank.replace(\"rank\", \"\")\n",
    "    return int(rank)\n",
    "\n",
    "pose_protein_path_pairs = pd.read_csv(\"protein_ligands_pair.csv\")\n",
    "for row in tqdm(pose_protein_path_pairs.itertuples(), total=len(pose_protein_path_pairs)):\n",
    "    protein_path = row.protein_path\n",
    "    pose_dir = row.ligand_pose_directory\n",
    "    \n",
    "    log_file = os.path.join(pose_dir, \"posebusters.log\")\n",
    "    if os.path.exists(log_file):\n",
    "        os.remove(log_file)\n",
    "    os.system(f\"touch {log_file}\")\n",
    "    \n",
    "    ligand_dirs = glob.glob(os.path.join(pose_dir, \"*\"))\n",
    "    ligand_dirs = [p for p in ligand_dirs if os.path.isdir(p)]\n",
    "    ligand_dirs = sorted(ligand_dirs, key=lambda x: int(x.rsplit(\"_\", 1)[-1]))\n",
    "    \n",
    "    for lig_dir in ligand_dirs:\n",
    "        rank1_pose = os.path.join(lig_dir, \"rank1.sdf\")\n",
    "        pose_buster(rank1_pose, protein_path, log_file)\n",
    "    "
   ]
  },
  {
   "cell_type": "code",
   "execution_count": 22,
   "metadata": {},
   "outputs": [],
   "source": [
    "import os\n",
    "import glob\n",
    "\n",
    "def pose_buster_validate(pose, protein, log_file=\"_pose_buster.log\"):\n",
    "    os.system(f\"bust {pose} -p {protein} > {log_file}\")\n",
    "    with open(log_file, \"r\") as f:\n",
    "        for line in f:\n",
    "            if line.split()[2] == \"passes\":\n",
    "                return True\n",
    "            return False\n",
    "    # os.remove(log_file)"
   ]
  },
  {
   "cell_type": "code",
   "execution_count": 20,
   "metadata": {},
   "outputs": [
    {
     "data": {
      "text/plain": [
       "True"
      ]
     },
     "execution_count": 20,
     "metadata": {},
     "output_type": "execute_result"
    }
   ],
   "source": [
    "pose_buster_validate(\n",
    "    \"results_October/af2_active_0/ligand_133/rank1_confidence-1.05.sdf\",\n",
    "    \"mchr1/mchr1_data/mchr1_alphaflow/model_2.pdb\",\n",
    ")"
   ]
  },
  {
   "cell_type": "code",
   "execution_count": 26,
   "metadata": {},
   "outputs": [
    {
     "name": "stdout",
     "output_type": "stream",
     "text": [
      "None\n",
      "results_October/af2_active_0/ligand_105/rank10_confidence-5.87.sdf\n",
      "<rdkit.Chem.rdchem.Mol object at 0x7f65df456430>\n",
      "<rdkit.Chem.rdchem.Mol object at 0x7f65df456270>\n",
      "<rdkit.Chem.rdchem.Mol object at 0x7f65df456350>\n",
      "<rdkit.Chem.rdchem.Mol object at 0x7f65df4563c0>\n",
      "<rdkit.Chem.rdchem.Mol object at 0x7f65df456190>\n",
      "<rdkit.Chem.rdchem.Mol object at 0x7f65df4564a0>\n",
      "<rdkit.Chem.rdchem.Mol object at 0x7f65df456510>\n",
      "<rdkit.Chem.rdchem.Mol object at 0x7f65df456580>\n",
      "<rdkit.Chem.rdchem.Mol object at 0x7f65df4565f0>\n",
      "<rdkit.Chem.rdchem.Mol object at 0x7f65df456660>\n"
     ]
    },
    {
     "name": "stderr",
     "output_type": "stream",
     "text": [
      "[16:31:50] ERROR: Cannot convert ' C' to int on line 5\n",
      "[16:31:50] ERROR: moving to the beginning of the next molecule\n"
     ]
    }
   ],
   "source": [
    "from rdkit import Chem\n",
    "\n",
    "sus_dir = \"results_October/af2_active_0/ligand_105\"\n",
    "sdf_paths = glob.glob(os.path.join(sus_dir, \"rank*.sdf\"))\n",
    "for path in sdf_paths:\n",
    "    supp = Chem.SDMolSupplier(path)\n",
    "    for mol in supp:\n",
    "        print(mol)\n",
    "        if mol is None:\n",
    "            print(path)"
   ]
  },
  {
   "cell_type": "code",
   "execution_count": 8,
   "metadata": {},
   "outputs": [
    {
     "data": {
      "text/plain": [
       "['results/alphaflow_0/ligand_0',\n",
       " 'results/alphaflow_0/ligand_1',\n",
       " 'results/alphaflow_0/ligand_2',\n",
       " 'results/alphaflow_0/ligand_3',\n",
       " 'results/alphaflow_0/ligand_4',\n",
       " 'results/alphaflow_0/ligand_5',\n",
       " 'results/alphaflow_0/ligand_6',\n",
       " 'results/alphaflow_0/ligand_7',\n",
       " 'results/alphaflow_0/ligand_8',\n",
       " 'results/alphaflow_0/ligand_9',\n",
       " 'results/alphaflow_0/ligand_10',\n",
       " 'results/alphaflow_0/ligand_11',\n",
       " 'results/alphaflow_0/ligand_12',\n",
       " 'results/alphaflow_0/ligand_13',\n",
       " 'results/alphaflow_0/ligand_14',\n",
       " 'results/alphaflow_0/ligand_15',\n",
       " 'results/alphaflow_0/ligand_16',\n",
       " 'results/alphaflow_0/ligand_17',\n",
       " 'results/alphaflow_0/ligand_18',\n",
       " 'results/alphaflow_0/ligand_19',\n",
       " 'results/alphaflow_0/ligand_20',\n",
       " 'results/alphaflow_0/ligand_21',\n",
       " 'results/alphaflow_0/ligand_22',\n",
       " 'results/alphaflow_0/ligand_23',\n",
       " 'results/alphaflow_0/ligand_24',\n",
       " 'results/alphaflow_0/ligand_25',\n",
       " 'results/alphaflow_0/ligand_26',\n",
       " 'results/alphaflow_0/ligand_27',\n",
       " 'results/alphaflow_0/ligand_28',\n",
       " 'results/alphaflow_0/ligand_29',\n",
       " 'results/alphaflow_0/ligand_30',\n",
       " 'results/alphaflow_0/ligand_31',\n",
       " 'results/alphaflow_0/ligand_32',\n",
       " 'results/alphaflow_0/ligand_33',\n",
       " 'results/alphaflow_0/ligand_34',\n",
       " 'results/alphaflow_0/ligand_35',\n",
       " 'results/alphaflow_0/ligand_36',\n",
       " 'results/alphaflow_0/ligand_37',\n",
       " 'results/alphaflow_0/ligand_38',\n",
       " 'results/alphaflow_0/ligand_39',\n",
       " 'results/alphaflow_0/ligand_40',\n",
       " 'results/alphaflow_0/ligand_41',\n",
       " 'results/alphaflow_0/ligand_42',\n",
       " 'results/alphaflow_0/ligand_43',\n",
       " 'results/alphaflow_0/ligand_44',\n",
       " 'results/alphaflow_0/ligand_45',\n",
       " 'results/alphaflow_0/ligand_46',\n",
       " 'results/alphaflow_0/ligand_47',\n",
       " 'results/alphaflow_0/ligand_48',\n",
       " 'results/alphaflow_0/ligand_49',\n",
       " 'results/alphaflow_0/ligand_50',\n",
       " 'results/alphaflow_0/ligand_51',\n",
       " 'results/alphaflow_0/ligand_52',\n",
       " 'results/alphaflow_0/ligand_53',\n",
       " 'results/alphaflow_0/ligand_54',\n",
       " 'results/alphaflow_0/ligand_55',\n",
       " 'results/alphaflow_0/ligand_56',\n",
       " 'results/alphaflow_0/ligand_57',\n",
       " 'results/alphaflow_0/ligand_58',\n",
       " 'results/alphaflow_0/ligand_59',\n",
       " 'results/alphaflow_0/ligand_60',\n",
       " 'results/alphaflow_0/ligand_61',\n",
       " 'results/alphaflow_0/ligand_62',\n",
       " 'results/alphaflow_0/ligand_63',\n",
       " 'results/alphaflow_0/ligand_64',\n",
       " 'results/alphaflow_0/ligand_65',\n",
       " 'results/alphaflow_0/ligand_66',\n",
       " 'results/alphaflow_0/ligand_67',\n",
       " 'results/alphaflow_0/ligand_68',\n",
       " 'results/alphaflow_0/ligand_69',\n",
       " 'results/alphaflow_0/ligand_70',\n",
       " 'results/alphaflow_0/ligand_71',\n",
       " 'results/alphaflow_0/ligand_72',\n",
       " 'results/alphaflow_0/ligand_73',\n",
       " 'results/alphaflow_0/ligand_74',\n",
       " 'results/alphaflow_0/ligand_75',\n",
       " 'results/alphaflow_0/ligand_76',\n",
       " 'results/alphaflow_0/ligand_77',\n",
       " 'results/alphaflow_0/ligand_78',\n",
       " 'results/alphaflow_0/ligand_79',\n",
       " 'results/alphaflow_0/ligand_80',\n",
       " 'results/alphaflow_0/ligand_81',\n",
       " 'results/alphaflow_0/ligand_82',\n",
       " 'results/alphaflow_0/ligand_83',\n",
       " 'results/alphaflow_0/ligand_84',\n",
       " 'results/alphaflow_0/ligand_85',\n",
       " 'results/alphaflow_0/ligand_86',\n",
       " 'results/alphaflow_0/ligand_87',\n",
       " 'results/alphaflow_0/ligand_88',\n",
       " 'results/alphaflow_0/ligand_89',\n",
       " 'results/alphaflow_0/ligand_90',\n",
       " 'results/alphaflow_0/ligand_91',\n",
       " 'results/alphaflow_0/ligand_92',\n",
       " 'results/alphaflow_0/ligand_93',\n",
       " 'results/alphaflow_0/ligand_94',\n",
       " 'results/alphaflow_0/ligand_95',\n",
       " 'results/alphaflow_0/ligand_96',\n",
       " 'results/alphaflow_0/ligand_97',\n",
       " 'results/alphaflow_0/ligand_98',\n",
       " 'results/alphaflow_0/ligand_99']"
      ]
     },
     "execution_count": 8,
     "metadata": {},
     "output_type": "execute_result"
    }
   ],
   "source": [
    "import glob\n",
    "ligand_dirs = glob.glob(os.path.join(\"results/alphaflow_0\", \"*\"))\n",
    "ligand_dirs = sorted(ligand_dirs, key=lambda x: int(x.rsplit(\"_\", 1)[-1]))\n",
    "ligand_dirs"
   ]
  }
 ],
 "metadata": {
  "kernelspec": {
   "display_name": "Python 3",
   "language": "python",
   "name": "python3"
  },
  "language_info": {
   "codemirror_mode": {
    "name": "ipython",
    "version": 3
   },
   "file_extension": ".py",
   "mimetype": "text/x-python",
   "name": "python",
   "nbconvert_exporter": "python",
   "pygments_lexer": "ipython3",
   "version": "3.9.18"
  }
 },
 "nbformat": 4,
 "nbformat_minor": 2
}
